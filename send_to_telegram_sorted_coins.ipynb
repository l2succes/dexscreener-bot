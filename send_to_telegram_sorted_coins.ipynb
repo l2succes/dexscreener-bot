{
 "cells": [
  {
   "cell_type": "code",
   "execution_count": 37,
   "id": "15529df9-c2fa-47dd-92a0-8669977ea996",
   "metadata": {
    "scrolled": true
   },
   "outputs": [
    {
     "data": {
      "text/plain": [
       "[{'chainId': 'base',\n",
       "  'dexId': 'uniswap',\n",
       "  'url': 'https://dexscreener.com/base/0x8896c86434eeca20241fe19210a6025b0c4286bb',\n",
       "  'pairAddress': '0x8896C86434EEca20241FE19210A6025b0C4286bB',\n",
       "  'labels': ['v2'],\n",
       "  'baseToken': {'address': '0x93593f8cDE9387F15f9aE2eD1683A7fB3e3bA9C1',\n",
       "   'name': 'BASE420',\n",
       "   'symbol': 'B420'},\n",
       "  'quoteToken': {'address': '0x4200000000000000000000000000000000000006',\n",
       "   'name': 'Wrapped Ether',\n",
       "   'symbol': 'WETH'},\n",
       "  'priceNative': '0.0000007269',\n",
       "  'priceUsd': '0.002305',\n",
       "  'txns': {'m5': {'buys': 13, 'sells': 7},\n",
       "   'h1': {'buys': 215, 'sells': 152},\n",
       "   'h6': {'buys': 1199, 'sells': 900},\n",
       "   'h24': {'buys': 1199, 'sells': 900}},\n",
       "  'volume': {'h24': 2812699.43,\n",
       "   'h6': 2812699.43,\n",
       "   'h1': 900306.32,\n",
       "   'm5': 20117.4},\n",
       "  'priceChange': {'m5': 0.53, 'h1': 81.34, 'h6': 14525, 'h24': 14525},\n",
       "  'liquidity': {'usd': 402061.11, 'base': 87180261, 'quote': 63.3721},\n",
       "  'fdv': 2305918,\n",
       "  'pairCreatedAt': 1713657273000,\n",
       "  'info': {'imageUrl': 'https://dd.dexscreener.com/ds-data/tokens/base/0x93593f8cde9387f15f9ae2ed1683a7fb3e3ba9c1.png',\n",
       "   'websites': [],\n",
       "   'socials': [{'type': 'twitter',\n",
       "     'url': 'https://twitter.com/Base420445246'}]}}]"
      ]
     },
     "execution_count": 37,
     "metadata": {},
     "output_type": "execute_result"
    }
   ],
   "source": [
    "import json\n",
    "from datetime import datetime, timedelta\n",
    "import pytz \n",
    "import requests\n",
    "\n",
    "def fetch_data(query):\n",
    "    \"\"\"Fetch pairs data from DeX Screener API based on a query.\"\"\"\n",
    "    url = f\"https://api.dexscreener.com/latest/dex/search?q={query}\"\n",
    "    response = requests.get(url)\n",
    "    if response.status_code == 200:\n",
    "        return response.json()  # Return the JSON response as a dictionary\n",
    "    else:\n",
    "        raise Exception(\"Failed to fetch data from DeX Screener: HTTP Status Code\", response.status_code)\n",
    "\n",
    "def send_telegram_message(bot_token, message):\n",
    "    \"\"\"Send a message to a Telegram chat via bot.\"\"\"\n",
    "    send_url = f\"https://api.telegram.org/bot{bot_token}/sendMessage\"\n",
    "    data = {\n",
    "        'chat_id': \"6018455628\",\n",
    "        'text': message,\n",
    "        'parse_mode': 'Markdown'\n",
    "    }\n",
    "    response = requests.post(send_url, data=data)\n",
    "    return response.json()\n",
    "\n",
    "\n",
    "def filter_pairs(data, bot_token):\n",
    "    current_time = datetime.now(pytz.utc)\n",
    "    recent_pairs = []\n",
    "    chat_id = \"6018455628\"\n",
    "    \n",
    "\n",
    "    for pair in data['pairs']:\n",
    "        creation_time = datetime.fromtimestamp(pair['pairCreatedAt'] / 1000, pytz.utc)\n",
    "        time_difference = current_time - creation_time\n",
    "\n",
    "        if time_difference < timedelta(hours=72):  # Recent pairs within last 6 hours\n",
    "            volume_m5 = pair.get('volume', {}).get('m5', 0)\n",
    "            txns_m5 = pair.get('txns', {}).get('m5', {})\n",
    "            total_txns_m5 = txns_m5.get('buys', 0) + txns_m5.get('sells', 0)\n",
    "            liquidity_m5 = pair.get('liquidity', {}).get('usd', 0)\n",
    "\n",
    "            if volume_m5 > 1 and total_txns_m5 > 1:\n",
    "                coin_name = pair['baseToken']['name']\n",
    "                pair_address = pair['pairAddress']\n",
    "                pair_link = pair['url']\n",
    "                message = (f\"New pair alert: {coin_name}\\n\"\n",
    "                           f\"Address: {pair_address}\\n\"\n",
    "                           f\"Link: {pair_link}\\n\"\n",
    "                           f\"Volume (last 5 mins): {volume_m5}\\n\"\n",
    "                           f\"Transactions (last 5 mins): {total_txns_m5}\\n\"\n",
    "                           f\"Liquidity (USD last 5 mins): {liquidity_m5}\")\n",
    "                send_telegram_message(bot_token, message)\n",
    "                recent_pairs.append(pair)\n",
    "                \n",
    "    return recent_pairs\n",
    "    \n",
    "\n",
    "\n",
    "# Usage example\n",
    "bot_token = '7010866436:AAHdBGnzbf_CeUUu4T6fLM6yy15Ygg_GIBk'\n",
    "data = fetch_data(\"BASE WETH\")  # Assuming you have defined fetch_data() previously\n",
    "recent_pairs = filter_pairs(data, bot_token)\n",
    "recent_pairs"
   ]
  }
 ],
 "metadata": {
  "kernelspec": {
   "display_name": "Python 3 (ipykernel)",
   "language": "python",
   "name": "python3"
  },
  "language_info": {
   "codemirror_mode": {
    "name": "ipython",
    "version": 3
   },
   "file_extension": ".py",
   "mimetype": "text/x-python",
   "name": "python",
   "nbconvert_exporter": "python",
   "pygments_lexer": "ipython3",
   "version": "3.8.18"
  }
 },
 "nbformat": 4,
 "nbformat_minor": 5
}
